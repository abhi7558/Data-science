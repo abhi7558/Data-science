{
 "cells": [
  {
   "cell_type": "code",
   "execution_count": 1,
   "id": "142b9d1c",
   "metadata": {},
   "outputs": [
    {
     "name": "stdout",
     "output_type": "stream",
     "text": [
      "Arithmetic Operation\n",
      "\n",
      "a: 10\n",
      "b: 5\n",
      "Addition 15\n",
      "Substraction 5\n",
      "Multiplicatin 50\n",
      "Division 2.0\n",
      "\n",
      "Boolean Operation\n",
      "\n",
      "a greaterthan b: True\n",
      "b lessthan a: False\n",
      "a notequal b: True\n",
      "a equal b: False\n"
     ]
    }
   ],
   "source": [
    "#Arithmetic\n",
    "print(\"Arithmetic Operation\\n\")\n",
    "a=10\n",
    "b=5\n",
    "print(\"a:\",a)\n",
    "print(\"b:\",b)\n",
    "print(\"Addition\",a+b)\n",
    "print(\"Substraction\",a-b)\n",
    "print(\"Multiplicatin\",a*b)\n",
    "print(\"Division\",a/b)\n",
    "\n",
    "print(\"\\nBoolean Operation\\n\")\n",
    "print(\"a greaterthan b:\",a>b)\n",
    "print(\"b lessthan a:\",b>a)\n",
    "print(\"a notequal b:\",a!=b)\n",
    "print(\"a equal b:\",a==b)\n"
   ]
  },
  {
   "cell_type": "code",
   "execution_count": 2,
   "id": "46ce828f",
   "metadata": {},
   "outputs": [
    {
     "name": "stdout",
     "output_type": "stream",
     "text": [
      "String Operation\n",
      "\n",
      "String 1: hello\n",
      "String 2:  world\n",
      "Character at 2nd position: e\n",
      "Compare: False\n",
      "Concatenate using + operation: hello world\n",
      "Capitalize of string 1: Hello\n",
      "Length of string 1: 5\n",
      "Uppercase: HELLO\n",
      "Slicing: llo\n",
      "Numeric or not: False\n"
     ]
    }
   ],
   "source": [
    "#String\n",
    "print(\"String Operation\\n\")\n",
    "str1=\"hello\"\n",
    "str2=\" world\"\n",
    "print(\"String 1:\",str1)\n",
    "print(\"String 2:\",str2)\n",
    "print(\"Character at 2nd position:\",str1[1])\n",
    "print(\"Compare:\",str1 == str2)\n",
    "result = str1 + str2\n",
    "print(\"Concatenate using + operation:\",result)\n",
    "print(\"Capitalize of string 1:\",str1.capitalize())\n",
    "print(\"Length of string 1:\",len(str1))\n",
    "print(\"Uppercase:\",str1.upper())\n",
    "print(\"Slicing:\",str1[2:5])\n",
    "print(\"Numeric or not:\",str1.isnumeric())\n"
   ]
  },
  {
   "cell_type": "code",
   "execution_count": 3,
   "id": "9b0249e8",
   "metadata": {},
   "outputs": [
    {
     "name": "stdout",
     "output_type": "stream",
     "text": [
      "List Operation\n",
      "\n",
      "Original List: ['Python', 'Swift', 'C++']\n",
      "Word at 3rd position: C++\n",
      "Updated List: ['Python', 'Swift', 'C++', 'java']\n",
      "Removed List: ['Python', 'C++', 'java']\n",
      "Total Elements:  3\n",
      "Sorted List: ['C++', 'Python', 'java']\n"
     ]
    }
   ],
   "source": [
    "#List\n",
    "print(\"List Operation\\n\")\n",
    "lang = ['Python', 'Swift', 'C++']\n",
    "print('Original List:', lang)\n",
    "print(\"Word at 3rd position:\",lang[2])\n",
    "lang.append('java')\n",
    "print('Updated List:', lang)\n",
    "lang.remove('Swift')\n",
    "print('Removed List:', lang)\n",
    "print('Total Elements: ', len(lang))\n",
    "lang.sort()\n",
    "print('Sorted List:', lang)"
   ]
  },
  {
   "cell_type": "code",
   "execution_count": 4,
   "id": "a6140a34",
   "metadata": {},
   "outputs": [
    {
     "name": "stdout",
     "output_type": "stream",
     "text": [
      "Dictionary Operation\n",
      "\n",
      "Original Dict: {1: 'Sinan', 2: 'Abhi', 3: 'Yadu'}\n",
      "Value at 3: Yadu\n",
      "Length: 3\n",
      "Added Dictionary: {1: 'Sinan', 2: 'Abhi', 3: 'Yadu', 4: 'Rohit'}\n",
      "Updated Dictionary: {1: 'Banu', 2: 'Abhi', 3: 'Yadu', 4: 'Rohit'}\n",
      "Removed Dictionary: {2: 'Abhi', 3: 'Yadu', 4: 'Rohit'}\n"
     ]
    }
   ],
   "source": [
    "#Dictionary\n",
    "print(\"Dictionary Operation\\n\")\n",
    "dict= {\n",
    "  1: \"Sinan\", \n",
    "  2: \"Abhi\", \n",
    "  3: \"Yadu\"\n",
    "}\n",
    "print(\"Original Dict:\",dict)\n",
    "print(\"Value at 3:\",dict[3])\n",
    "print(\"Length:\",len(dict))\n",
    "dict[4]=\"Rohit\"\n",
    "print(\"Added Dictionary:\",dict)\n",
    "dict.update({1:\"Banu\"})\n",
    "print(\"Updated Dictionary:\",dict)\n",
    "dict.pop(1)\n",
    "print(\"Removed Dictionary:\",dict)\n"
   ]
  },
  {
   "cell_type": "code",
   "execution_count": 5,
   "id": "aff2116a",
   "metadata": {},
   "outputs": [
    {
     "name": "stdout",
     "output_type": "stream",
     "text": [
      "Function Operation\n",
      "\n"
     ]
    }
   ],
   "source": [
    "#Function\n",
    "print(\"Function Operation\\n\")"
   ]
  },
  {
   "cell_type": "code",
   "execution_count": 6,
   "id": "14aa39d7",
   "metadata": {},
   "outputs": [
    {
     "name": "stdout",
     "output_type": "stream",
     "text": [
      "\n",
      "Number List: [5, 10, 2, 40, 8, 70, 10, 40]\n",
      "Largest Number in list: 70\n",
      "Remove duplicates [2, 5, 8, 10, 40, 70]\n"
     ]
    }
   ],
   "source": [
    "#list num\n",
    "\n",
    "num = [5,10,2,40,8,70,10,40]\n",
    "print('\\nNumber List:', num)\n",
    "num.sort()\n",
    "print('Largest Number in list:', num[-1])\n",
    "res = []\n",
    "for i in num:\n",
    "    if i not in res:\n",
    "        res.append(i)\n",
    "print(\"Remove duplicates\",res)"
   ]
  },
  {
   "cell_type": "code",
   "execution_count": 7,
   "id": "86001b54",
   "metadata": {},
   "outputs": [
    {
     "name": "stdout",
     "output_type": "stream",
     "text": [
      "enter the name :abhi\n",
      "enter the age:24\n",
      "first dictionary is: {'name': 'abhi', 'age': '24'}\n",
      "enter the color:blue\n",
      "enter the flower name:rose\n",
      "second dictionary is: {'color': 'blue', 'flower': 'rose'}\n",
      "merge dictionary is {'name': 'abhi', 'age': '24', 'color': 'blue', 'flower': 'rose'}\n"
     ]
    }
   ],
   "source": [
    "#merge dictionaries\n",
    "\n",
    "d1={}\n",
    "name=input(\"enter the name :\")\n",
    "age=input(\"enter the age:\")\n",
    "d1['name']=name\n",
    "d1['age']=age\n",
    "print(\"first dictionary is:\",d1)\n",
    "d2={}\n",
    "color=input(\"enter the color:\")\n",
    "flower=input(\"enter the flower name:\")\n",
    "d2['color']=color\n",
    "d2['flower']=flower\n",
    "print(\"second dictionary is:\",d2)\n",
    "d3=d1\n",
    "d1.update(d2)\n",
    "print(\"merge dictionary is\",d3)\n"
   ]
  },
  {
   "cell_type": "code",
   "execution_count": null,
   "id": "75e22c80",
   "metadata": {},
   "outputs": [],
   "source": []
  }
 ],
 "metadata": {
  "kernelspec": {
   "display_name": "Python 3 (ipykernel)",
   "language": "python",
   "name": "python3"
  },
  "language_info": {
   "codemirror_mode": {
    "name": "ipython",
    "version": 3
   },
   "file_extension": ".py",
   "mimetype": "text/x-python",
   "name": "python",
   "nbconvert_exporter": "python",
   "pygments_lexer": "ipython3",
   "version": "3.11.5"
  }
 },
 "nbformat": 4,
 "nbformat_minor": 5
}
